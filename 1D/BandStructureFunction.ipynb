{
 "cells": [
  {
   "cell_type": "code",
   "execution_count": 10,
   "metadata": {},
   "outputs": [],
   "source": [
    "import scipy.linalg "
   ]
  },
  {
   "cell_type": "markdown",
   "metadata": {},
   "source": [
    "Since we want our quantities to have real numbers (real dimensions), we define a constant to convert the kinetic energy term ($\\frac{\\hbar^2 (k+K)^2}{2m}$) to electronvolts.\n"
   ]
  },
  {
   "cell_type": "code",
   "execution_count": 1,
   "metadata": {},
   "outputs": [],
   "source": [
    "from scipy.constants import e, m_e, hbar \n",
    "\n",
    "NormC = hbar**2/(2*m_e)*10**(20)/e"
   ]
  },
  {
   "cell_type": "markdown",
   "metadata": {},
   "source": [
    "Here we define matrices for the eigenvalue equation and then solve the eigenvalue equation for the energies E."
   ]
  },
  {
   "cell_type": "code",
   "execution_count": 2,
   "metadata": {},
   "outputs": [],
   "source": [
    "def BandStructF(*args):\n",
    "    Eig=np.zeros(shape=(NrOfK, NrOfK))\n",
    "    for i in range(NrOfK):\n",
    "        K=2*np.pi/a*(i-maxK)\n",
    "        Eig[i,i] = NormC*(k+K)**2 + A\n",
    "        for j in range((i+1),NrOfK):\n",
    "            G=2*np.pi/a*(i-j)\n",
    "            Eig[j,i]=Eig[i,j]=A*np.exp(-(G*sigma)**2/2)\n",
    "    E,V=scipy.linalg.eig(Eig)\n",
    "    E.sort()\n",
    "    return E"
   ]
  }
 ],
 "metadata": {
  "kernelspec": {
   "display_name": "Python 3 (ipykernel)",
   "language": "python",
   "name": "python3"
  },
  "language_info": {
   "codemirror_mode": {
    "name": "ipython",
    "version": 3
   },
   "file_extension": ".py",
   "mimetype": "text/x-python",
   "name": "python",
   "nbconvert_exporter": "python",
   "pygments_lexer": "ipython3",
   "version": "3.8.10"
  },
  "varInspector": {
   "cols": {
    "lenName": 16,
    "lenType": 16,
    "lenVar": 40
   },
   "kernels_config": {
    "python": {
     "delete_cmd_postfix": "",
     "delete_cmd_prefix": "del ",
     "library": "var_list.py",
     "varRefreshCmd": "print(var_dic_list())"
    },
    "r": {
     "delete_cmd_postfix": ") ",
     "delete_cmd_prefix": "rm(",
     "library": "var_list.r",
     "varRefreshCmd": "cat(var_dic_list()) "
    }
   },
   "types_to_exclude": [
    "module",
    "function",
    "builtin_function_or_method",
    "instance",
    "_Feature"
   ],
   "window_display": false
  }
 },
 "nbformat": 4,
 "nbformat_minor": 2
}
