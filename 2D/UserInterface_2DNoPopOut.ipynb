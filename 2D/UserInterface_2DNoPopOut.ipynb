{
 "cells": [
  {
   "cell_type": "markdown",
   "metadata": {},
   "source": [
    "## The wonderful 2 dimensional bandstructure function\n",
    " **Autors:** *Klára Nováková* and *Andris Potrebko* with a vital teoretical support of *Andreas Wacker*, *Tor Sjöstrand* and *Hofmanns* book *Solid State Physics*     \n",
    " **Year:** *2019* \n",
    " \n",
    "* If you are looking at this file from the universities computer which is used for the lab, then please leave everything exactly the way it was before.\n",
    "\n",
    "* The file is structured to be able to run cell by cell. If any of the variable is unclear, it is possible to create a new cell by pressing *Esc* and then *A* and play around. The shortcut to delete the cell: *Esc* and then *D+D*.\n",
    "\n",
    "* In the following document, the two dimensional bandstructure of a crystal is solved using the plane wave basis approximation (further described in the lab manual).\n",
    "\n",
    "* This time we will not care about the exact value of our potential which is now two dimensional. In analogy to the 1D case we write the potential in Fourier components  $V(\\vec r)=\\sum_{\\vec{G_j}}A e^{- G^2_j \\sigma^2/2} e^{i \\vec{G_j}\\cdot \\vec r} \\equiv  \\sum\n",
    "_{\\vec G_j} V_{\\vec G_j} \\cdot e^{i \\vec G_j\n",
    "\\cdot \\vec r}$, where $\\vec G_j$ is a reciprocal lattice vector and $\\vec r=(x, y)$.\n",
    "\n",
    "* In order to obtain the energy spectrum or the band structure we need to solve the following eigenvalue equation:\n",
    "$\\Big( \\frac{\\hbar^2 (\\vec k+\\vec K)^2}{2m} - \\varepsilon \\Big) c_{\\vec k+\\vec K} +\\sum_G c_{\\vec k+\\vec K-\\vec G} V_\\vec G$ and search for $\\varepsilon$ - the energy eigenvalues.\n",
    "\n"
   ]
  },
  {
   "cell_type": "markdown",
   "metadata": {},
   "source": [
    "### Imports"
   ]
  },
  {
   "cell_type": "code",
   "execution_count": 1,
   "metadata": {},
   "outputs": [],
   "source": [
    "import numpy as np\n",
    "import scipy.linalg\n",
    "from mpl_toolkits.mplot3d import Axes3D\n",
    "import matplotlib.pyplot as plt\n",
    "%matplotlib notebook\n",
    "import matplotlib\n",
    "\n",
    "plt.style.use(\"default\")\n",
    "\n",
    "\n",
    "from matplotlib import cm\n",
    "\n",
    "import panel as pn"
   ]
  },
  {
   "cell_type": "markdown",
   "metadata": {},
   "source": [
    "### initial values"
   ]
  },
  {
   "cell_type": "code",
   "execution_count": 2,
   "metadata": {
    "scrolled": false
   },
   "outputs": [],
   "source": [
    "a = 3  # Latfice constant in Ångstrongs\n",
    "sigma = 1  # Very arbitrary value\n",
    "U = 15\n",
    "Len_k = 15\n",
    "A = -U*(np.sqrt(2 *np.pi)*sigma/a)**2\n",
    "NrOfK = 5 #changed later"
   ]
  },
  {
   "attachments": {
    "Br.zones.png": {
     "image/png": "[encoded data removed]"
    }
   },
   "cell_type": "markdown",
   "metadata": {},
   "source": [
    "As mentioned in the lab manual, we only consider the reciprocal lattice vectors which fullfil the condition $|\\vec k + \\vec K + \\vec G| \\leq K_{max}$. In the figure below, we can see a $\\vec k$ vector $(k_x,k_y)$ in the first Brillouin zone (yellow in the figure) and all of the zones, that we include in the calculations, that is all of the neigbouring zones. Two examples of the possible reciprocal lattice vectors $\\vec G$ are shown which can be added to the vector $\\vec k$ while fulling the condition mentioned.\n",
    "\n",
    "![Br.zones.png](attachment:Br.zones.png)"
   ]
  },
  {
   "cell_type": "code",
   "execution_count": 3,
   "metadata": {},
   "outputs": [],
   "source": [
    "G = 2*np.pi/a\n",
    "G_list = np.array([[-G, G], [-G, 0.0], [-G, -G], [0.0, G],\n",
    "                   [0.0, 0.0], [0.0, -G], [G, G], [G, 0.0], [G, -G]])\n",
    "# G_list=np.array([[-G,0.0],[0.0,G],[0.0,0.0],[0.0,-G],[G,0.0]])\n",
    "# G_list=np.array([[0.0,0.0],[G,0],[0,G],[G,G]])\n",
    "NrOfK = len(G_list)"
   ]
  },
  {
   "cell_type": "markdown",
   "metadata": {},
   "source": [
    "*BandStructureFunction_2D.ipynb* file contains a function *BandStructF* which creates the matrix described above and solves for the eigenvalues.\n",
    "*%run* is one of the so-called magic functions and does the import of the function found in the file *BandStructureFunction_2D.ipynb*."
   ]
  },
  {
   "cell_type": "code",
   "execution_count": 4,
   "metadata": {
    "scrolled": false
   },
   "outputs": [],
   "source": [
    "%run BandFunction_2D.ipynb"
   ]
  },
  {
   "cell_type": "code",
   "execution_count": 5,
   "metadata": {
    "scrolled": false
   },
   "outputs": [],
   "source": [
    "Energies = np.zeros(shape=(Len_k*2+1, Len_k*2+1, NrOfK))\n",
    "kVect = np.zeros((2, Len_k*2+1, Len_k*2+1))"
   ]
  },
  {
   "cell_type": "markdown",
   "metadata": {},
   "source": [
    "Uncomment \"%%time\" to measure the calculation time of the cell"
   ]
  },
  {
   "cell_type": "code",
   "execution_count": 6,
   "metadata": {
    "scrolled": false
   },
   "outputs": [],
   "source": [
    "# %%time\n",
    "Energies = np.zeros(shape=(Len_k*2+1, Len_k*2+1, NrOfK))\n",
    "kVect = np.zeros((2, Len_k*2+1, Len_k*2+1))\n",
    "\n",
    "for kx in range(-Len_k, Len_k+1):\n",
    "    for ky in range(-Len_k, Len_k+1):\n",
    "        #         %run 2Dbandstructure.ipynb\n",
    "        k_x = np.pi/(a)*kx/Len_k\n",
    "        k_y = np.pi/(a)*ky/Len_k\n",
    "        E = BandStructF()\n",
    "        Energies[kx+Len_k, ky+Len_k] = np.real(E)\n",
    "\n",
    "        kVect[0, kx+Len_k, ky+Len_k] = k_x\n",
    "        kVect[1, kx+Len_k, ky+Len_k] = k_y\n",
    "\n",
    "Energies0 = Energies[:, :, 0]\n",
    "Energies1 = Energies[:, :, 1]"
   ]
  },
  {
   "cell_type": "markdown",
   "metadata": {},
   "source": [
    "### Fermi energi\n",
    "Define initial Fermi energy. This energy will be changed by the interaction later. For the given Fermi energy find how many states are bellow it"
   ]
  },
  {
   "cell_type": "code",
   "execution_count": 7,
   "metadata": {
    "scrolled": false
   },
   "outputs": [],
   "source": [
    "EF = -6\n",
    "BellowF = np.sum(np.sort(Energies[0:2*Len_k,0:2*Len_k].flatten()) <= EF) #No double count at boundaries\n",
    "\n",
    "EFermi = np.full((10, 10), EF)\n",
    "kxFermi, kyFermi = np.meshgrid(np.linspace(kVect[0, 0, 0]*0.8, kVect[0, -1, -1]*1.01, 10),\n",
    "                               np.linspace(kVect[0, 0, 0]*0.8, kVect[0, -1, -1]*1.01, 10))"
   ]
  },
  {
   "cell_type": "markdown",
   "metadata": {},
   "source": [
    "### Plots\n",
    "#### Plot one fourth of the Brilluin zone\n",
    "\n",
    "We create variables containing energies values in the region we want to plot. Not that the new 2D arrays *Energies0In* and *Energies1In* created in this way in Python are not actually the new variables. Instead Python assigns a place in memory under the created variable names which is connected to the initial array *Energies0* and *Energies1*. This means that whenever *Energies0* or *Energies1* change, also *Energies0In* or *Energies1In* change automatically. In this way it is not needed to reasign the new variable everytime we will run the interaction."
   ]
  },
  {
   "cell_type": "code",
   "execution_count": 8,
   "metadata": {},
   "outputs": [],
   "source": [
    "kVectIn = kVect[:, Len_k:, Len_k:]\n",
    "Energies0In = Energies0[Len_k:, Len_k:]\n",
    "Energies1In = Energies1[Len_k:, Len_k:]\n",
    "kxFermiIn, kyFermiIn, EFermiIn = kxFermi[4:,\n",
    "                                         4:], kyFermi[4:, 4:], EFermi[4:, 4:]"
   ]
  },
  {
   "cell_type": "code",
   "execution_count": 9,
   "metadata": {},
   "outputs": [
    {
     "ename": "NameError",
     "evalue": "name 'ax1' is not defined",
     "output_type": "error",
     "traceback": [
      "\u001b[0;31m---------------------------------------------------------------------------\u001b[0m",
      "\u001b[0;31mNameError\u001b[0m                                 Traceback (most recent call last)",
      "Input \u001b[0;32mIn [9]\u001b[0m, in \u001b[0;36m<cell line: 5>\u001b[0;34m()\u001b[0m\n\u001b[1;32m      1\u001b[0m \u001b[38;5;66;03m# To make different colors above/below the Fermi level\u001b[39;00m\n\u001b[1;32m      2\u001b[0m ColLow, ColAbove \u001b[38;5;241m=\u001b[39m Energies0\u001b[38;5;241m.\u001b[39mcopy(), Energies1\u001b[38;5;241m.\u001b[39mcopy()\n\u001b[0;32m----> 5\u001b[0m \u001b[38;5;28;01mdef\u001b[39;00m \u001b[38;5;21mPlotFourth\u001b[39m(EF, Energies0, Energies1, EFermi,ax\u001b[38;5;241m=\u001b[39m\u001b[43max1\u001b[49m, \u001b[38;5;241m*\u001b[39margs):\n\u001b[1;32m      6\u001b[0m     \u001b[38;5;66;03m# Make the colors change continuously (linearly) so that below EF it would be in interval (0;0.4) and above (0.6;1)\u001b[39;00m\n\u001b[1;32m      7\u001b[0m     \u001b[38;5;66;03m# First find the slope\u001b[39;00m\n\u001b[1;32m      8\u001b[0m     slopeColorL \u001b[38;5;241m=\u001b[39m \u001b[38;5;241m0.4\u001b[39m\u001b[38;5;241m/\u001b[39m(EF \u001b[38;5;241m-\u001b[39m np\u001b[38;5;241m.\u001b[39mmin(Energies0In))\n\u001b[1;32m      9\u001b[0m     slopeColorH \u001b[38;5;241m=\u001b[39m \u001b[38;5;241m0.4\u001b[39m\u001b[38;5;241m/\u001b[39m(np\u001b[38;5;241m.\u001b[39mmax(Energies1In) \u001b[38;5;241m-\u001b[39m EF)\n",
      "\u001b[0;31mNameError\u001b[0m: name 'ax1' is not defined"
     ]
    }
   ],
   "source": [
    "%%capture\n",
    "\n",
    "# To make different colors above/below the Fermi level\n",
    "ColLow, ColAbove = Energies0.copy(), Energies1.copy()\n",
    "\n",
    "\n",
    "def PlotFourth(EF, Energies0, Energies1, EFermi,ax, *args):\n",
    "    # Make the colors change continuously (linearly) so that below EF it would be in interval (0;0.4) and above (0.6;1)\n",
    "    # First find the slope\n",
    "    slopeColorL = 0.4/(EF - np.min(Energies0In))\n",
    "    slopeColorH = 0.4/(np.max(Energies1In) - EF)\n",
    "\n",
    "    ColLow[Energies0 < EF] = slopeColorL * \\\n",
    "        (Energies[Energies0 < EF, 0]-np.min(Energies0))\n",
    "    ColLow[Energies0 > EF] = 0.6 + slopeColorH * \\\n",
    "        (Energies[Energies0 > EF, 0] - EF)\n",
    "    ColAbove[Energies1 < EF] = slopeColorL * \\\n",
    "        (Energies[Energies1 < EF, 0] - np.min(Energies0))\n",
    "    ColAbove[Energies1 > EF] = 0.6 + slopeColorH * \\\n",
    "        (Energies[Energies1 > EF, 1] - EF)\n",
    "\n",
    "    # Make the plot\n",
    "    ax.plot_surface(kVectIn[0], kVectIn[1], Energies1In, facecolors=cm.plasma(ColAbove[Len_k:-1, Len_k:-1]),\n",
    "                     edgecolor='none', antialiased=False, vmin=np.min(Energies), vmax=np.max(Energies1In))  # Energies[:,:,2]\n",
    "    ax.plot_surface(kVectIn[0], kVectIn[1], Energies0In, vmin=np.min(Energies), vmax=np.max(Energies1In), rstride=1, cstride=1,\n",
    "                     facecolors=cm.plasma(ColLow[Len_k:-1, Len_k:-1]), edgecolor='none', antialiased=False, zorder=3, shade=False)  # Energies[:,:,2]\n",
    "    ax.plot_surface(kxFermiIn, kyFermiIn, EFermiIn, rstride=1, cstride=1, color='r',\n",
    "                     edgecolor='none', antialiased=False, zorder=1, alpha=0.3)  # Energies[:,:,2]\n",
    "\n",
    "    ax.set_xlabel('$k_x$ $(1/ \\AA)$')\n",
    "    ax.set_ylabel('$k_y$ $(1/ \\AA)$')\n",
    "    ax.set_zlabel('Energy (eV)')\n",
    "    ax.set_zlim3d(np.min(Energies), np.max(Energies1In))\n",
    "# cnar = fig.colorbar(C2)\n",
    "\n",
    "\n",
    "#fig = plt.figure(figsize=plt.figaspect(0.5))\n",
    "#ax2 = fig.add_subplot(1, 2, 2)\n",
    "#ax1 = fig.add_subplot(1, 2, 1, projection='3d')\n",
    "#fig.subplots_adjust(wspace=0.3)\n",
    "#PlotFourth(EF, Energies0, Energies1, EFermi)"
   ]
  },
  {
   "cell_type": "markdown",
   "metadata": {},
   "source": [
    "To plot the whole Brilluin zone"
   ]
  },
  {
   "cell_type": "code",
   "execution_count": 10,
   "metadata": {
    "scrolled": false
   },
   "outputs": [
    {
     "ename": "NameError",
     "evalue": "name 'ax1' is not defined",
     "output_type": "error",
     "traceback": [
      "\u001b[0;31m---------------------------------------------------------------------------\u001b[0m",
      "\u001b[0;31mNameError\u001b[0m                                 Traceback (most recent call last)",
      "Input \u001b[0;32mIn [10]\u001b[0m, in \u001b[0;36m<cell line: 5>\u001b[0;34m()\u001b[0m\n\u001b[1;32m      1\u001b[0m \u001b[38;5;66;03m# Make different colors above/below the Fermi level\u001b[39;00m\n\u001b[1;32m      2\u001b[0m ColLow, ColAbove \u001b[38;5;241m=\u001b[39m Energies0\u001b[38;5;241m.\u001b[39mcopy(), Energies1\u001b[38;5;241m.\u001b[39mcopy()\n\u001b[0;32m----> 5\u001b[0m \u001b[38;5;28;01mdef\u001b[39;00m \u001b[38;5;21mPlotFull\u001b[39m(EF, Energies0, Energies1, EFermi,ax\u001b[38;5;241m=\u001b[39m\u001b[43max1\u001b[49m ,\u001b[38;5;241m*\u001b[39margs):\n\u001b[1;32m      6\u001b[0m     \u001b[38;5;66;03m# Make the colors continuous so that below EF it would be in interval (0;0.4) and above (0.6;1)\u001b[39;00m\n\u001b[1;32m      7\u001b[0m     \u001b[38;5;66;03m# First find the slope\u001b[39;00m\n\u001b[1;32m      8\u001b[0m     slopeColorL \u001b[38;5;241m=\u001b[39m \u001b[38;5;241m0.4\u001b[39m\u001b[38;5;241m/\u001b[39m(EF \u001b[38;5;241m-\u001b[39m np\u001b[38;5;241m.\u001b[39mmin(Energies0))\n\u001b[1;32m      9\u001b[0m     slopeColorH \u001b[38;5;241m=\u001b[39m \u001b[38;5;241m0.4\u001b[39m\u001b[38;5;241m/\u001b[39m(np\u001b[38;5;241m.\u001b[39mmax(Energies1) \u001b[38;5;241m-\u001b[39m EF)\n",
      "\u001b[0;31mNameError\u001b[0m: name 'ax1' is not defined"
     ]
    }
   ],
   "source": [
    "%%capture\n",
    "# Make different colors above/below the Fermi level\n",
    "ColLow, ColAbove = Energies0.copy(), Energies1.copy()\n",
    "\n",
    "\n",
    "def PlotFull(EF, Energies0, Energies1, EFermi,ax ,*args):\n",
    "    # Make the colors continuous so that below EF it would be in interval (0;0.4) and above (0.6;1)\n",
    "    # First find the slope\n",
    "    slopeColorL = 0.4/(EF - np.min(Energies0))\n",
    "    slopeColorH = 0.4/(np.max(Energies1) - EF)\n",
    "\n",
    "    ColLow[Energies0 < EF] = slopeColorL * \\\n",
    "        (Energies[Energies0 < EF, 0]-np.min(Energies0))\n",
    "    ColLow[Energies0 > EF] = 0.6 + slopeColorH * \\\n",
    "        (Energies[Energies0 > EF, 0] - EF)\n",
    "    ColAbove[Energies1 < EF] = slopeColorL * \\\n",
    "        (Energies[Energies1 < EF, 0] - np.min(Energies0))\n",
    "    ColAbove[Energies1 > EF] = 0.6 + slopeColorH * \\\n",
    "        (Energies[Energies1 > EF, 1] - EF)\n",
    "\n",
    "    # Make the plot\n",
    "    ax.plot_surface(kxFermi, kyFermi, EFermi, rstride=1, cstride=1, color='r',\n",
    "                     edgecolor='none', alpha=0.3, antialiased=False)  # Energies[:,:,2]\n",
    "    ax.plot_surface(kVect[0], kVect[1], Energies1,\n",
    "                     facecolors=cm.plasma(ColAbove), rstride=1, cstride=1,\n",
    "                     edgecolor='none', antialiased=False)  # Energies[:,:,2]\n",
    "    ax.plot_surface(kVect[0], kVect[1], Energies0, vmin=np.min(Energies), vmax=np.max(Energies1), rstride=1, cstride=1,\n",
    "                     facecolors=cm.plasma(ColLow), edgecolor='none', antialiased=False)  # Energies[:,:,2]\n",
    "\n",
    "\n",
    "\n",
    "    ax.set_xlabel('$k_x$ $(1/ \\AA)$')\n",
    "    ax.set_ylabel('$k_y$ $(1/ \\AA)$')\n",
    "    ax.set_zlabel('Energy (eV)')\n",
    "    ax.set_zlim3d(np.min(Energies), np.max(Energies1))\n",
    "\n",
    "# fig = plt.figure(figsize=plt.figaspect(0.5))\n",
    "# ax2 = fig.add_subplot(1, 2, 2)\n",
    "# ax1 = fig.add_subplot(1, 2, 1, projection='3d')\n",
    "# PlotFull(EF, Energies0, Energies1, EFermi)"
   ]
  },
  {
   "cell_type": "markdown",
   "metadata": {},
   "source": [
    "### The energy bands\n",
    "I wanted to put on the x axis the distance from the origin to the point, this is why all of the $\\sqrt{k_x^2 + k_y^2}$ appear but it did not look pretty, so I multiply by 2"
   ]
  },
  {
   "cell_type": "code",
   "execution_count": 11,
   "metadata": {
    "scrolled": false
   },
   "outputs": [
    {
     "ename": "NameError",
     "evalue": "name 'ax2' is not defined",
     "output_type": "error",
     "traceback": [
      "\u001b[0;31m---------------------------------------------------------------------------\u001b[0m",
      "\u001b[0;31mNameError\u001b[0m                                 Traceback (most recent call last)",
      "Input \u001b[0;32mIn [11]\u001b[0m, in \u001b[0;36m<cell line: 1>\u001b[0;34m()\u001b[0m\n\u001b[0;32m----> 1\u001b[0m \u001b[38;5;28;01mdef\u001b[39;00m \u001b[38;5;21mBandStructure\u001b[39m(EF,ax\u001b[38;5;241m=\u001b[39m\u001b[43max2\u001b[49m, \u001b[38;5;241m*\u001b[39margs):\n\u001b[1;32m      2\u001b[0m     EnergyDiag \u001b[38;5;241m=\u001b[39m np\u001b[38;5;241m.\u001b[39mdiag(Energies0[::\u001b[38;5;241m-\u001b[39m\u001b[38;5;241m1\u001b[39m, :])[:Len_k\u001b[38;5;241m+\u001b[39m\u001b[38;5;241m1\u001b[39m]\n\u001b[1;32m      3\u001b[0m     EnergyDiag1 \u001b[38;5;241m=\u001b[39m np\u001b[38;5;241m.\u001b[39mdiag(Energies1[::\u001b[38;5;241m-\u001b[39m\u001b[38;5;241m1\u001b[39m, :])[:Len_k\u001b[38;5;241m+\u001b[39m\u001b[38;5;241m1\u001b[39m]\n",
      "\u001b[0;31mNameError\u001b[0m: name 'ax2' is not defined"
     ]
    }
   ],
   "source": [
    "def BandStructure(EF,ax, *args):\n",
    "    EnergyDiag = np.diag(Energies0[::-1, :])[:Len_k+1]\n",
    "    EnergyDiag1 = np.diag(Energies1[::-1, :])[:Len_k+1]\n",
    "    kDiag = kVect[1][0, Len_k:]*np.sqrt(2)\n",
    "\n",
    "    ax.plot(1, 1, color='grey', label='First Band')\n",
    "    ax.plot(1, 1, '--', color='grey', label='Second Band')\n",
    "\n",
    "    # First Band\n",
    "    ax.plot(kVect[0][Len_k:, 1], Energies0[Len_k:, Len_k])\n",
    "    ax.plot(np.sqrt(kVect[0][-1, 1]**2 +\n",
    "                     (kVect[1][-1, Len_k:])**2*3), Energies0[-1, Len_k:])\n",
    "    ax.plot(kVect[0][-1, 1]*(2+kDiag), EnergyDiag)\n",
    "    # ax2.plot(kVect[1][1,(Len_k+1):(2*Len_k+1)],Energies[(2*Len_k+1),(Len_k+1):(2*Len_k+1),1])\n",
    "\n",
    "    # Second Band\n",
    "    ax.plot(kVect[0][Len_k:, 1], Energies1[Len_k:, Len_k], '--')\n",
    "    ax.plot(np.sqrt(kVect[0][-1, 1]**2+(kVect[1]\n",
    "                                         [-1, Len_k:])**2*3), Energies1[-1, Len_k:], '--')\n",
    "    ax.plot(kVect[0][-1, 1]*(2+kDiag), EnergyDiag1, '--')\n",
    "    # ax2.plot(kVect[1][1,(Len_k+1):(2*Len_k+1)],Energies[(2*Len_k+1),(Len_k+1):(2*Len_k+1),1])\n",
    "\n",
    "    ax.axhline(EF, linestyle='-.', alpha=0.8, color='gray', label='$E_F$')\n",
    "\n",
    "    ax.set_xticks([0, kVect[0][-1, 1], kVect[0][-1, 1]\n",
    "                    * 2, kVect[0][-1, 1]*2+kDiag[-1]])\n",
    "    ax.set_xticklabels(('$\\Gamma$', 'X', 'M', '$\\Gamma$')) # previously (('X', '$\\Gamma$', 'Y', 'X'))\n",
    "    ax.tick_params(axis='x', colors='r', labelsize=16)\n",
    "    #ax.yaxis.tick_right()\n",
    "    #ax.yaxis.set_label_position(\"right\")\n",
    "    # ax2.set_xlabel('$k$') #$(1/ \\AA)$\n",
    "    ax.set_ylabel('Energy (eV)')\n",
    "    ax.legend()\n",
    "\n",
    "\n"
   ]
  },
  {
   "cell_type": "code",
   "execution_count": null,
   "metadata": {
    "scrolled": false
   },
   "outputs": [],
   "source": [
    "# fig = plt.figure(figsize=plt.figaspect(0.5))\n",
    "# ax2 = fig.add_subplot(1, 2, 2)\n",
    "# BandStructure()\n",
    "# fig"
   ]
  },
  {
   "cell_type": "code",
   "execution_count": null,
   "metadata": {
    "scrolled": false
   },
   "outputs": [],
   "source": []
  },
  {
   "cell_type": "markdown",
   "metadata": {},
   "source": [
    "### Begin interaction\n",
    "#### Note that we do not calculate the lattice anymore (kVect, ...), because the lattice does not change"
   ]
  },
  {
   "cell_type": "code",
   "execution_count": null,
   "metadata": {
    "scrolled": false
   },
   "outputs": [],
   "source": [
    "\n",
    "\n",
    "def f(Pot=U, FullOrFourth=1, EFerm=EF, *args):\n",
    "    global A, kx, ky\n",
    "    \n",
    "    if (FullOrFourth==\"Full\"):\n",
    "        FullOrFourth = 0\n",
    "    else:\n",
    "        FullOrFourth = 1\n",
    "    \n",
    "    fig = plt.figure(figsize=(6, 4),constrained_layout=True)\n",
    "    ax2 = fig.add_subplot(1, 2, 1)\n",
    "    ax1 = fig.add_subplot(1, 2, 2, projection='3d')\n",
    "    fig.patch.set_facecolor('white') \n",
    "    U = Pot\n",
    "    EF = EFerm\n",
    "    EFermi[:, :] = EF\n",
    "    A = -U*(np.sqrt(2 *np.pi)*sigma/a)**2\n",
    "    for kx in range(-Len_k, Len_k+1):\n",
    "        for ky in range(-Len_k, Len_k+1):\n",
    "            E = BandStructF()\n",
    "            Energies[kx+Len_k, ky+Len_k] = np.real(E)\n",
    "    \n",
    "\n",
    "    Energies0 = Energies[:, :, 0]\n",
    "    Energies1 = Energies[:, :, 1]\n",
    "    EFermi[:, :] = EF\n",
    "    if FullOrFourth:\n",
    "        PlotFourth(EF, Energies0, Energies1, EFermi,ax1)\n",
    "    else:\n",
    "        PlotFull(EF, Energies0, Energies1, EFermi,ax1)\n",
    "\n",
    "    BandStructure(EF,ax2)\n",
    "\n",
    "#     DebugGuy.value = str(EF)\n",
    "\n",
    "    # Update the value of the number of states bellow Fermi to be printed out\n",
    "    BellowF = np.sum(np.sort(Energies[0:2*Len_k,0:2*Len_k].flatten()) <= EF)#No double count at boundaries\n",
    "\n",
    "    output_int.object = r\"Number of states bellow $E_F$ is:\" + str(BellowF)\n",
    "    ax1.set(facecolor = \"white\")\n",
    "    ax2.set(facecolor = \"white\")\n",
    "    #ax1.set_axis_bgcolor('white')\n",
    "    #ax2.set_axis_bgcolor('white')\n",
    "    plt.close(fig)  \n",
    "    return fig"
   ]
  },
  {
   "cell_type": "code",
   "execution_count": null,
   "metadata": {},
   "outputs": [],
   "source": [
    "\n",
    "\n",
    "pn.extension()\n",
    "\n",
    "output_int = pn.pane.Str(r\"Number of states bellow $E_F$ is:\")\n",
    "freq = pn.widgets.FloatSlider(name='Potential', start=0.0, end=100, step=1, value=U)\n",
    "amp = pn.widgets.FloatSlider(name=r'$E_F$', start=int(np.min(Energies0)), end=int(np.max(Energies1))+2, step=1, value=EF)\n",
    "mode = pn.widgets.Select(name='Full plot or 1/4', options=[\"Full\", \"1/4\"], value=\"1/4\")\n",
    "\n",
    "interactive = pn.bind(f, Pot=freq,FullOrFourth=mode,EFerm=amp)\n",
    "\n",
    "\n",
    "\n",
    "#pn.Column(freq, amp, interactive)\n",
    "\n",
    "sliders_layout = pn.Column(\n",
    "    pn.Row(freq, amp),\n",
    "    pn.Row(mode,output_int)  # dropdown with 2nd row\n",
    ")\n",
    "\n",
    "ui = pn.Column(\n",
    "    sliders_layout,\n",
    "    pn.panel(interactive, tight=True)\n",
    ")\n",
    "\n",
    "\n",
    "\n",
    "\n"
   ]
  },
  {
   "cell_type": "code",
   "execution_count": null,
   "metadata": {},
   "outputs": [],
   "source": []
  }
 ],
 "metadata": {
  "kernelspec": {
   "display_name": "Python 3 (ipykernel)",
   "language": "python",
   "name": "python3"
  },
  "language_info": {
   "codemirror_mode": {
    "name": "ipython",
    "version": 3
   },
   "file_extension": ".py",
   "mimetype": "text/x-python",
   "name": "python",
   "nbconvert_exporter": "python",
   "pygments_lexer": "ipython3",
   "version": "3.8.10"
  },
  "varInspector": {
   "cols": {
    "lenName": 16,
    "lenType": 16,
    "lenVar": 40
   },
   "kernels_config": {
    "python": {
     "delete_cmd_postfix": "",
     "delete_cmd_prefix": "del ",
     "library": "var_list.py",
     "varRefreshCmd": "print(var_dic_list())"
    },
    "r": {
     "delete_cmd_postfix": ") ",
     "delete_cmd_prefix": "rm(",
     "library": "var_list.r",
     "varRefreshCmd": "cat(var_dic_list()) "
    }
   },
   "types_to_exclude": [
    "module",
    "function",
    "builtin_function_or_method",
    "instance",
    "_Feature"
   ],
   "window_display": false
  }
 },
 "nbformat": 4,
 "nbformat_minor": 2
}
